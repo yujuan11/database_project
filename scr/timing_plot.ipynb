{
 "cells": [
  {
   "cell_type": "code",
   "execution_count": null,
   "metadata": {},
   "outputs": [],
   "source": [
    "import pandas as pd\n",
    "import matplotlib.pyplot as plt"
   ]
  },
  {
   "cell_type": "code",
   "execution_count": null,
   "metadata": {},
   "outputs": [],
   "source": [
    "# record the average response time and total response time when concurrent queries happen"
   ]
  },
  {
   "cell_type": "code",
   "execution_count": null,
   "metadata": {},
   "outputs": [],
   "source": [
    "#average and total response time, 1000,2000, 3000,4000, 5000,6000  concurrent queries with index\n",
    "query_numbers= [1000,2000,3000,4000,5000,6000]\n",
    "ave_indexed= [1.13666,1.55465,2.44036,3.18424,3.84536,5.16678]\n",
    "response_indexed = [2.26447,4.36796,7.06615,9.29517,12.0573,14.7225]"
   ]
  },
  {
   "cell_type": "code",
   "execution_count": null,
   "metadata": {},
   "outputs": [],
   "source": [
    "#average and total response time, 1000,2000, 3000,4000, 5000,6000 concurrent queries without index\n",
    "ave = [0.824433,2.07294,2.60222,3.59463,4.36483,5.9015] \n",
    "response = [2.60559,5.59538,7.46116,10.2252,12.404,16.1915]"
   ]
  },
  {
   "cell_type": "code",
   "execution_count": null,
   "metadata": {},
   "outputs": [],
   "source": [
    "ave_df = pd.DataFrame({\n",
    "    'queries':query_numbers,\n",
    "    'ave_indexed':ave_indexed,\n",
    "    'ave':ave\n",
    "})"
   ]
  },
  {
   "cell_type": "code",
   "execution_count": null,
   "metadata": {},
   "outputs": [],
   "source": [
    "response_df = pd.DataFrame({\n",
    "    'queries':query_numbers,\n",
    "    'response_indexed':response_indexed,\n",
    "    'response':response\n",
    "})"
   ]
  },
  {
   "cell_type": "code",
   "execution_count": null,
   "metadata": {},
   "outputs": [],
   "source": [
    "# plot the trend of average response time in different concurrent queries with index and without index"
   ]
  },
  {
   "cell_type": "code",
   "execution_count": null,
   "metadata": {},
   "outputs": [],
   "source": [
    "plt.figure(figsize=(10, 6))\n",
    "plt.plot(ave_df['queries'],ave_df['ave_indexed'], label='indexed', marker='o')\n",
    "plt.plot(ave_df['queries'],ave_df['ave'], label='not indexed', marker='s')\n",
    "plt.xlabel('Query number')\n",
    "plt.ylabel('Average Response Time (s)')\n",
    "plt.legend()\n",
    "plt.show()"
   ]
  },
  {
   "cell_type": "code",
   "execution_count": null,
   "metadata": {},
   "outputs": [],
   "source": [
    "# plot the trend of total response time in different concurrent queries with index and without index"
   ]
  },
  {
   "cell_type": "code",
   "execution_count": null,
   "metadata": {},
   "outputs": [],
   "source": [
    "plt.figure(figsize=(10, 6))\n",
    "plt.plot(response_df['queries'],response_df['response_indexed'], label='indexed', marker='o')\n",
    "plt.plot(response_df['queries'],response_df['response'], label='not indexed', marker='s')\n",
    "plt.xlabel('Query number')\n",
    "plt.ylabel('Total Response Time (s)')\n",
    "plt.legend()\n",
    "plt.show()"
   ]
  },
  {
   "cell_type": "code",
   "execution_count": null,
   "metadata": {},
   "outputs": [],
   "source": []
  },
  {
   "cell_type": "code",
   "execution_count": null,
   "metadata": {},
   "outputs": [],
   "source": []
  }
 ],
 "metadata": {
  "language_info": {
   "name": "python"
  }
 },
 "nbformat": 4,
 "nbformat_minor": 2
}
